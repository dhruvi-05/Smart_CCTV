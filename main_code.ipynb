{
 "cells": [
  {
   "cell_type": "code",
   "execution_count": 6,
   "id": "678a5716",
   "metadata": {},
   "outputs": [],
   "source": [
    "import tkinter as tk\n",
    "import tkinter.font as font\n",
    "from in_out import in_out\n",
    "from motion import noise\n",
    "from record import record\n",
    "from PIL import Image, ImageTk\n"
   ]
  },
  {
   "cell_type": "code",
   "execution_count": 14,
   "id": "b1906ce5",
   "metadata": {},
   "outputs": [],
   "source": [
    "window = tk.Tk()\n",
    "window.title(\"Smart cctv\")\n",
    "window.iconbitmap(r\"C:\\Users\\R P SHARMA\\Downloads\\ic.png\")\n",
    "window.geometry('1080x760')\n",
    "\n",
    "frame1 = tk.Frame(window)\n",
    "\n",
    "label_title = tk.Label(frame1, text=\"Smart CCTV\")\n",
    "label_font = font.Font(size=35, weight='bold',family='Helvetica')\n",
    "label_title['font'] = label_font\n",
    "label_title.grid(pady=(10,10), column=2)\n",
    "\n",
    "icon = Image.open(r\"C:\\Users\\R P SHARMA\\Downloads\\archive\\icons\\camera.png\")\n",
    "icon = icon.resize((150,150), Image.LANCZOS)\n",
    "icon = ImageTk.PhotoImage(icon)\n",
    "label_icon = tk.Label(frame1, image=icon)\n",
    "label_icon.grid(row=1, pady=(5,10), column=2)\n",
    "\n",
    "btn1_image = Image.open(r\"C:\\Users\\R P SHARMA\\Downloads\\archive\\icons\\monitor.png\")\n",
    "btn1_image = btn1_image.resize((50,50), Image.LANCZOS)\n",
    "btn1_image = ImageTk.PhotoImage(btn1_image)\n",
    "\n",
    "\n",
    "btn5_image = Image.open(r\"C:\\Users\\R P SHARMA\\Downloads\\archive\\icons\\exit.png\")\n",
    "btn5_image = btn5_image.resize((50,50), Image.LANCZOS)\n",
    "btn5_image = ImageTk.PhotoImage(btn5_image)\n",
    "\n",
    "btn3_image = Image.open(r\"C:\\Users\\R P SHARMA\\Downloads\\archive\\icons\\security-camera.png\")\n",
    "btn3_image = btn3_image.resize((50,50), Image.LANCZOS)\n",
    "btn3_image = ImageTk.PhotoImage(btn3_image)\n",
    "\n",
    "btn6_image = Image.open(r\"C:\\Users\\R P SHARMA\\Downloads\\archive\\icons\\Dance.png\")\n",
    "btn6_image = btn6_image.resize((50,50), Image.LANCZOS)\n",
    "btn6_image = ImageTk.PhotoImage(btn6_image)\n",
    "\n",
    "btn4_image = Image.open(r\"C:\\Users\\R P SHARMA\\Downloads\\archive\\icons\\recording.png\")\n",
    "btn4_image = btn4_image.resize((50,50), Image.LANCZOS)\n",
    "btn4_image = ImageTk.PhotoImage(btn4_image)\n",
    "\n",
    "btn_font = font.Font(size=25)\n",
    "btn1 = tk.Button(frame1, text='Monitor', height=90, width=180, fg='black', image=btn1_image, compound='left')\n",
    "btn1['font'] = btn_font\n",
    "btn1.grid(row=3, pady=(20,10))\n",
    "\n",
    "btn_font = font.Font(size=25)\n",
    "btn3 = tk.Button(frame1, text='Noise', height=90, width=180, fg='black', command=noise, image=btn3_image, compound='left')\n",
    "btn3['font'] = btn_font\n",
    "btn3.grid(row=5, pady=(20,10))\n",
    "\n",
    "btn4 = tk.Button(frame1, text='Record', height=90, width=180, fg='black', command=record, image=btn4_image, compound='left')\n",
    "btn4['font'] = btn_font\n",
    "btn4.grid(row=5, pady=(20,10), column=3)\n",
    "\n",
    "btn6 = tk.Button(frame1, text='In Out', height=90, width=180, fg='black', command=in_out, image=btn6_image, compound='left')\n",
    "btn6['font'] = btn_font\n",
    "btn6.grid(row=3, pady=(20,10), column=3)\n",
    "\n",
    "btn5 = tk.Button(frame1, height=90, width=180, fg='red', command=window.quit, image=btn5_image)\n",
    "btn5['font'] = btn_font\n",
    "btn5.grid(row=6, pady=(20,10), column=2)\n",
    "\n",
    "frame1.pack()\n",
    "\n",
    "window.mainloop()\n"
   ]
  },
  {
   "cell_type": "code",
   "execution_count": null,
   "id": "40988179",
   "metadata": {},
   "outputs": [],
   "source": []
  },
  {
   "cell_type": "code",
   "execution_count": null,
   "id": "e68d6dc0",
   "metadata": {},
   "outputs": [],
   "source": []
  }
 ],
 "metadata": {
  "kernelspec": {
   "display_name": "Python 3 (ipykernel)",
   "language": "python",
   "name": "python3"
  },
  "language_info": {
   "codemirror_mode": {
    "name": "ipython",
    "version": 3
   },
   "file_extension": ".py",
   "mimetype": "text/x-python",
   "name": "python",
   "nbconvert_exporter": "python",
   "pygments_lexer": "ipython3",
   "version": "3.11.5"
  }
 },
 "nbformat": 4,
 "nbformat_minor": 5
}
